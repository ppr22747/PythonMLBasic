{
 "cells": [
  {
   "cell_type": "code",
   "execution_count": null,
   "metadata": {},
   "outputs": [],
   "source": []
  },
  {
   "cell_type": "code",
   "execution_count": 12,
   "metadata": {},
   "outputs": [],
   "source": [
    "import numpy as np\n",
    "from PIL import Image\n",
    "import pytesseract"
   ]
  },
  {
   "cell_type": "code",
   "execution_count": 14,
   "metadata": {},
   "outputs": [
    {
     "name": "stdout",
     "output_type": "stream",
     "text": [
      "Extracted Text from Waveform:\n",
      "\n"
     ]
    }
   ],
   "source": [
    "waveform_img = Image.open(\"datasets/waveform.png\")\n",
    "\n",
    "# Convert the image to grayscale\n",
    "waveform_img_gray = waveform_img.convert('L')\n",
    "\n",
    "# Convert the grayscale image to a numpy array\n",
    "waveform_array = np.array(waveform_img_gray)\n",
    "\n",
    "# Perform any necessary preprocessing on the waveform array (e.g., denoising, thresholding, etc.)\n",
    "\n",
    "# Apply OCR (Optical Character Recognition) to extract text from the waveform image\n",
    "waveform_text = pytesseract.image_to_string(waveform_img)\n",
    "\n",
    "# Print the extracted text\n",
    "print(\"Extracted Text from Waveform:\")\n",
    "print(waveform_text)"
   ]
  },
  {
   "cell_type": "code",
   "execution_count": 15,
   "metadata": {},
   "outputs": [
    {
     "data": {
      "text/plain": [
       "''"
      ]
     },
     "execution_count": 15,
     "metadata": {},
     "output_type": "execute_result"
    }
   ],
   "source": [
    "waveform_text"
   ]
  },
  {
   "cell_type": "code",
   "execution_count": 17,
   "metadata": {},
   "outputs": [
    {
     "name": "stdout",
     "output_type": "stream",
     "text": [
      "Collecting opencv-python\n",
      "  Obtaining dependency information for opencv-python from https://files.pythonhosted.org/packages/c7/ec/9dabb6a9abfdebb3c45b0cc52dec901caafef2b2c7e7d6a839ed86d81e91/opencv_python-4.9.0.80-cp37-abi3-win_amd64.whl.metadata\n",
      "  Using cached opencv_python-4.9.0.80-cp37-abi3-win_amd64.whl.metadata (20 kB)\n",
      "Requirement already satisfied: numpy>=1.21.2 in c:\\users\\1000259375\\desktop\\de project\\pythonmlbasic\\env\\lib\\site-packages (from opencv-python) (1.26.3)\n",
      "Using cached opencv_python-4.9.0.80-cp37-abi3-win_amd64.whl (38.6 MB)\n",
      "Installing collected packages: opencv-python\n",
      "Successfully installed opencv-python-4.9.0.80\n"
     ]
    },
    {
     "name": "stderr",
     "output_type": "stream",
     "text": [
      "\n",
      "[notice] A new release of pip is available: 23.2.1 -> 24.0\n",
      "[notice] To update, run: python.exe -m pip install --upgrade pip\n"
     ]
    }
   ],
   "source": [
    "!pip install opencv-python"
   ]
  },
  {
   "cell_type": "code",
   "execution_count": 20,
   "metadata": {},
   "outputs": [
    {
     "name": "stdout",
     "output_type": "stream",
     "text": [
      "Detected Frequencies: 67583\n"
     ]
    }
   ],
   "source": [
    "import cv2\n",
    "import numpy as np\n",
    "from scipy.signal import find_peaks\n",
    "\n",
    "# Load the waveform image\n",
    "waveform_img = cv2.imread('datasets/waveform.png', cv2.IMREAD_GRAYSCALE)\n",
    "\n",
    "# Check if the image was loaded successfully\n",
    "if waveform_img is None:\n",
    "    print(\"Error: Unable to load the image\")\n",
    "else:\n",
    "    # Preprocess the image if necessary (e.g., denoising, contrast adjustment, etc.)\n",
    "    \n",
    "    # Perform signal analysis (e.g., peak detection)\n",
    "    peaks, _ = find_peaks(waveform_img.flatten(), height=100)  # Adjust threshold as needed\n",
    "    \n",
    "    # Interpret the signal\n",
    "    frequencies = len(peaks)  # Example interpretation: number of peaks might indicate frequency components\n",
    "    \n",
    "    # Output the result\n",
    "    print(\"Detected Frequencies:\", frequencies)"
   ]
  },
  {
   "cell_type": "code",
   "execution_count": null,
   "metadata": {},
   "outputs": [],
   "source": []
  }
 ],
 "metadata": {
  "kernelspec": {
   "display_name": "env",
   "language": "python",
   "name": "python3"
  },
  "language_info": {
   "codemirror_mode": {
    "name": "ipython",
    "version": 3
   },
   "file_extension": ".py",
   "mimetype": "text/x-python",
   "name": "python",
   "nbconvert_exporter": "python",
   "pygments_lexer": "ipython3",
   "version": "3.10.5"
  }
 },
 "nbformat": 4,
 "nbformat_minor": 2
}
