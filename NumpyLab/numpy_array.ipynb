{
 "cells": [
  {
   "cell_type": "markdown",
   "metadata": {},
   "source": [
    "####  1. ตรวจสอบว่ามี library ของ Numpy ถูกติดตั้งอยู่หรือไม่"
   ]
  },
  {
   "cell_type": "code",
   "execution_count": 1,
   "metadata": {},
   "outputs": [
    {
     "name": "stderr",
     "output_type": "stream",
     "text": [
      "WARNING: Package(s) not found: numpy\n"
     ]
    }
   ],
   "source": [
    "!pip show numpy"
   ]
  },
  {
   "cell_type": "markdown",
   "metadata": {},
   "source": [
    "#### 2. ถ้ายังไม่ได้ติดตั้งให้ทำการติดตั้ง library ของ numpy โดยใช้คำสั่ง"
   ]
  },
  {
   "cell_type": "code",
   "execution_count": 2,
   "metadata": {},
   "outputs": [
    {
     "name": "stdout",
     "output_type": "stream",
     "text": [
      "Collecting numpy"
     ]
    },
    {
     "name": "stderr",
     "output_type": "stream",
     "text": [
      "WARNING: You are using pip version 22.0.4; however, version 23.3.2 is available.\n",
      "You should consider upgrading via the 'C:\\Users\\1000259375\\Desktop\\DE Project\\PythonMLBasic\\env\\Scripts\\python.exe -m pip install --upgrade pip' command.\n"
     ]
    },
    {
     "name": "stdout",
     "output_type": "stream",
     "text": [
      "\n",
      "  Downloading numpy-1.26.3-cp310-cp310-win_amd64.whl (15.8 MB)\n",
      "     --------------------------------------- 15.8/15.8 MB 26.2 MB/s eta 0:00:00\n",
      "Installing collected packages: numpy\n",
      "Successfully installed numpy-1.26.3\n"
     ]
    }
   ],
   "source": [
    "!pip install numpy"
   ]
  },
  {
   "cell_type": "markdown",
   "metadata": {},
   "source": [
    "#### 3. การสร้าง array ใน numpy โดย np.array()"
   ]
  },
  {
   "cell_type": "code",
   "execution_count": 6,
   "metadata": {},
   "outputs": [
    {
     "name": "stdout",
     "output_type": "stream",
     "text": [
      "10\n",
      "[1 2 3]\n",
      "[[1]\n",
      " [2]\n",
      " [3]]\n"
     ]
    }
   ],
   "source": [
    "import numpy as np\n",
    "\n",
    "# array scalar 1D\n",
    "a = np.array(10)\n",
    "print(a)\n",
    "\n",
    "# array vector\n",
    "row = np.array([1,2,3]) # 1 row 3 columns\n",
    "column = np.array([[1],[2],[3]]) # 3 rows 1 column\n",
    "\n",
    "print(row)\n",
    "print(column)"
   ]
  },
  {
   "cell_type": "code",
   "execution_count": 7,
   "metadata": {},
   "outputs": [
    {
     "name": "stdout",
     "output_type": "stream",
     "text": [
      "[[1 2 3]\n",
      " [4 5 6]]\n"
     ]
    }
   ],
   "source": [
    "# matrix array\n",
    "matrix = np.array([[1,2,3],[4,5,6]]) # 2 rows 3 cols\n",
    "print(matrix)\n"
   ]
  },
  {
   "cell_type": "markdown",
   "metadata": {},
   "source": [
    "#### 4. การสร้างตัวเลขสุ่มใน numpy โดย np.randdom"
   ]
  },
  {
   "cell_type": "code",
   "execution_count": 8,
   "metadata": {},
   "outputs": [
    {
     "name": "stdout",
     "output_type": "stream",
     "text": [
      "[6 1 1 3 4]\n"
     ]
    }
   ],
   "source": [
    "# random integer 0-9 มา 5 ตัว\n",
    "r1 = np.random.randint(0,10,5) # vector 1 row 5 cols\n",
    "print(r1)"
   ]
  },
  {
   "cell_type": "code",
   "execution_count": 9,
   "metadata": {},
   "outputs": [
    {
     "name": "stdout",
     "output_type": "stream",
     "text": [
      "[0.6111893  0.69100802 0.815083   0.04217326 0.97806057]\n"
     ]
    }
   ],
   "source": [
    "# random floar 0-1\n",
    "r2 = np.random.random(5) # vector 1 row 5 cols\n",
    "print(r2)"
   ]
  },
  {
   "cell_type": "markdown",
   "metadata": {},
   "source": [
    "#### 5. การเข้าถึงและเลือกสมาชิกใน array โดยใช้คำสั่ง"
   ]
  },
  {
   "cell_type": "code",
   "execution_count": 16,
   "metadata": {},
   "outputs": [
    {
     "name": "stdout",
     "output_type": "stream",
     "text": [
      "[ 1  2  3  4  5  6  7  8  9 10]\n",
      "4\n",
      "[3 4 5 6]\n",
      "[1 2 3 4 5]\n",
      "[ 6  7  8  9 10]\n",
      "[8 9]\n"
     ]
    }
   ],
   "source": [
    "vrow = np.array([1,2,3,4,5,6,7,8,9,10]) # 1row 10 cols\n",
    "print(vrow)\n",
    "print(vrow[3])\n",
    "print(vrow[2:6])\n",
    "print(vrow[:5])\n",
    "print(vrow[5:])\n",
    "print(vrow[-3:-1])"
   ]
  },
  {
   "cell_type": "markdown",
   "metadata": {},
   "source": [
    "#### 6. หาค่าทางสถิติโดยใช้ numpy"
   ]
  },
  {
   "cell_type": "code",
   "execution_count": 17,
   "metadata": {},
   "outputs": [
    {
     "name": "stdout",
     "output_type": "stream",
     "text": [
      "[[ 1  2  3  4]\n",
      " [ 5  6  7  8]\n",
      " [ 9 10 11 12]]\n"
     ]
    }
   ],
   "source": [
    "stat = np.array([[1,2,3,4],[5,6,7,8],[9,10,11,12]])\n",
    "print(stat)"
   ]
  },
  {
   "cell_type": "code",
   "execution_count": 27,
   "metadata": {},
   "outputs": [
    {
     "name": "stdout",
     "output_type": "stream",
     "text": [
      "Max:  12\n",
      "Min:  1\n",
      "Mean:  6.5\n",
      "Median:  6.5\n",
      "StdDev:  3.452052529534663\n",
      "Variance:  11.916666666666666\n"
     ]
    }
   ],
   "source": [
    "# statistics\n",
    "print(\"Max: \", np.max(stat))\n",
    "print(\"Min: \", np.min(stat))\n",
    "print(\"Mean: \", np.mean(stat))\n",
    "print(\"Median: \", np.median(stat))\n",
    "print(\"StdDev: \", np.std(stat))\n",
    "print(\"Variance: \", np.var(stat))"
   ]
  },
  {
   "cell_type": "code",
   "execution_count": null,
   "metadata": {},
   "outputs": [],
   "source": []
  }
 ],
 "metadata": {
  "kernelspec": {
   "display_name": "env",
   "language": "python",
   "name": "python3"
  },
  "language_info": {
   "codemirror_mode": {
    "name": "ipython",
    "version": 3
   },
   "file_extension": ".py",
   "mimetype": "text/x-python",
   "name": "python",
   "nbconvert_exporter": "python",
   "pygments_lexer": "ipython3",
   "version": "3.10.5"
  }
 },
 "nbformat": 4,
 "nbformat_minor": 2
}
