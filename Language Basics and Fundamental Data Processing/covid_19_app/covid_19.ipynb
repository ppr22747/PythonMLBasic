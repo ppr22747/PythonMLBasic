{
 "cells": [
  {
   "cell_type": "code",
   "execution_count": 49,
   "metadata": {},
   "outputs": [],
   "source": [
    "# function to read data\n",
    "\n",
    "def read_data(file_name):\n",
    "    with open(file_name, mode = 'r', encoding='utf-8-sig') as f:\n",
    "        data = f.readlines()\n",
    "    return data"
   ]
  },
  {
   "cell_type": "code",
   "execution_count": 50,
   "metadata": {},
   "outputs": [],
   "source": [
    "# function to transform to list of dict\n",
    "\n",
    "def transform_data(data, keys):\n",
    "    cases = list()\n",
    "    case = dict()\n",
    "\n",
    "    for item in data:\n",
    "        record = item.strip().split(',')\n",
    "\n",
    "        for i in range(len(keys)):\n",
    "            case[keys[i]] = record[i]\n",
    "\n",
    "        cases.append(case)\n",
    "        case = dict()\n",
    "\n",
    "    return cases\n"
   ]
  },
  {
   "cell_type": "markdown",
   "metadata": {},
   "source": [
    "* Write a function that returns number of cases for a given date."
   ]
  },
  {
   "cell_type": "code",
   "execution_count": 59,
   "metadata": {},
   "outputs": [],
   "source": [
    "def number_of_cases(cases, date):\n",
    "    count = 0\n",
    "    for case in cases:\n",
    "        if case['announce_date'] == date:\n",
    "            count+=1\n",
    "            \n",
    "    return count"
   ]
  },
  {
   "cell_type": "markdown",
   "metadata": {},
   "source": [
    "* Write a function that returns number of a males and females for a range of dates."
   ]
  },
  {
   "cell_type": "code",
   "execution_count": 57,
   "metadata": {},
   "outputs": [],
   "source": [
    "def number_of_cases_by_sex(cases, start_date, end_date):\n",
    "    males = 0\n",
    "    females = 0\n",
    "    unknown = 0\n",
    "\n",
    "    for case in cases:\n",
    "        if start_date <= case['announce_date'] <= end_date:\n",
    "            if case['sex'] == 'ชาย':\n",
    "                males += 1\n",
    "            elif case['sex'] == 'หญิง':\n",
    "                females += 1\n",
    "            else:\n",
    "                unknown += 1\n",
    "\n",
    "    return males, females, unknown"
   ]
  },
  {
   "cell_type": "markdown",
   "metadata": {},
   "source": [
    "* Write a function that returns the distribution of ages. Given the age range consist of [(0,19), (20,39), (40, 59), (60, 79), (80, 99), (100, 119)]"
   ]
  },
  {
   "cell_type": "code",
   "execution_count": 60,
   "metadata": {},
   "outputs": [],
   "source": [
    "def number_of_cases_by_ages(cases, age_range):\n",
    "    bin = [0]*(len(age_range)+1) # bin = [0,0,0,0,0,0]\n",
    "\n",
    "    for case in cases:\n",
    "        if case['Unit'] == 'เดือน' or case['Unit'] == 'วัน':\n",
    "            bin[0] += 1\n",
    "        elif case['Unit'] == 'ปี':\n",
    "            for i in range(len(bin)-1):\n",
    "                if age_range[i][0] <= float(case['age']) <= age_range[i][1]:\n",
    "                    bin[i] += 1\n",
    "                    break\n",
    "        else:\n",
    "            bin[-1] += 1\n",
    "\n",
    "    return bin"
   ]
  },
  {
   "cell_type": "markdown",
   "metadata": {},
   "source": [
    "### Main Program"
   ]
  },
  {
   "cell_type": "code",
   "execution_count": null,
   "metadata": {},
   "outputs": [
    {
     "name": "stdout",
     "output_type": "stream",
     "text": [
      "(24562, 35412, 3341)\n",
      "[51928, 110948, 93575, 55898, 12971, 74, 31217]\n"
     ]
    }
   ],
   "source": [
    "# read a file\n",
    "data = read_data(r'C:\\Users\\Livingroom-PC\\Desktop\\Python\\cu_mooc\\Language Basics and Fundamental Data Processing\\covid_19_app\\datasets\\confirmed-cases-since-120465.csv')\n",
    "\n",
    "# extract header (row 0) to be a new table header\n",
    "keys = data.pop(0).strip().split(',')\n",
    "\n",
    "# transform to desired format\n",
    "cases = transform_data(data, keys)\n",
    "\n",
    "# ดูยอดผู้ติดเชื้อในวันที่กำหนด\n",
    "print(number_of_cases(cases, '14/4/2022'))\n",
    "\n",
    "# ดูยอดผู้ติดเชื้อในช่วงวันที่กำหนด โดยจำแนกตามเพศ\n",
    "print(number_of_cases_by_sex(cases, start_date='14/4/2022', end_date='16/6/2022'))\n",
    "\n",
    "# ดูยอดผู้ติดเชื้อทั้งหมด โดยจำแนกตามช่วงอายุ [(0,19), (20,39), (40, 59), (60, 79), (80, 99), (100, 119)]\n",
    "print(number_of_cases_by_ages(cases, [(0,19), (20,39), (40, 59), (60, 79), (80, 99), (100, 119)]))"
   ]
  },
  {
   "cell_type": "code",
   "execution_count": 53,
   "metadata": {},
   "outputs": [
    {
     "name": "stdout",
     "output_type": "stream",
     "text": [
      "<class 'list'>\n"
     ]
    }
   ],
   "source": [
    "print(type(cases))"
   ]
  },
  {
   "cell_type": "code",
   "execution_count": 54,
   "metadata": {},
   "outputs": [
    {
     "name": "stdout",
     "output_type": "stream",
     "text": [
      "{'No.': '3905873', 'announce_date': '12/4/2022', 'Notified date': '11/4/2022', 'sex': 'หญิง', 'age': '54', 'Unit': 'ปี', 'nationality': 'Thailand', 'province_of_isolation': 'เชียงใหม่', 'risk': 'อยู่ระหว่างการสอบสวน', 'province_of_onset': 'เชียงใหม่', 'district_of_onset': 'จอมทอง'}\n"
     ]
    }
   ],
   "source": [
    "print(cases[0])"
   ]
  },
  {
   "cell_type": "code",
   "execution_count": 55,
   "metadata": {},
   "outputs": [
    {
     "name": "stdout",
     "output_type": "stream",
     "text": [
      "['No.', 'announce_date', 'Notified date', 'sex', 'age', 'Unit', 'nationality', 'province_of_isolation', 'risk', 'province_of_onset', 'district_of_onset']\n"
     ]
    }
   ],
   "source": [
    "print(keys)"
   ]
  },
  {
   "cell_type": "code",
   "execution_count": 28,
   "metadata": {},
   "outputs": [
    {
     "name": "stdout",
     "output_type": "stream",
     "text": [
      "11\n"
     ]
    }
   ],
   "source": [
    "print(len(keys))"
   ]
  },
  {
   "cell_type": "code",
   "execution_count": 17,
   "metadata": {},
   "outputs": [
    {
     "name": "stdout",
     "output_type": "stream",
     "text": [
      "<class 'list'>\n"
     ]
    }
   ],
   "source": [
    "print(type(data))"
   ]
  },
  {
   "cell_type": "code",
   "execution_count": 18,
   "metadata": {},
   "outputs": [
    {
     "name": "stdout",
     "output_type": "stream",
     "text": [
      "356613\n"
     ]
    }
   ],
   "source": [
    "print(len(data))"
   ]
  },
  {
   "cell_type": "code",
   "execution_count": 19,
   "metadata": {},
   "outputs": [
    {
     "name": "stdout",
     "output_type": "stream",
     "text": [
      "No.,announce_date,Notified date,sex,age,Unit,nationality,province_of_isolation,risk,province_of_onset,district_of_onset\n",
      "\n"
     ]
    }
   ],
   "source": [
    "print(data[0])"
   ]
  },
  {
   "cell_type": "code",
   "execution_count": 25,
   "metadata": {},
   "outputs": [
    {
     "name": "stdout",
     "output_type": "stream",
     "text": [
      "3905873,12/4/2022,11/4/2022,หญิง,54,ปี,Thailand,เชียงใหม่,อยู่ระหว่างการสอบสวน,เชียงใหม่,จอมทอง\n",
      "\n"
     ]
    }
   ],
   "source": [
    "print(data[1])"
   ]
  }
 ],
 "metadata": {
  "kernelspec": {
   "display_name": "Python 3",
   "language": "python",
   "name": "python3"
  },
  "language_info": {
   "codemirror_mode": {
    "name": "ipython",
    "version": 3
   },
   "file_extension": ".py",
   "mimetype": "text/x-python",
   "name": "python",
   "nbconvert_exporter": "python",
   "pygments_lexer": "ipython3",
   "version": "3.12.2"
  }
 },
 "nbformat": 4,
 "nbformat_minor": 2
}
